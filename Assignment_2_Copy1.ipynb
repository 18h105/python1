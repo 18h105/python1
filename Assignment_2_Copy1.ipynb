{
  "nbformat": 4,
  "nbformat_minor": 0,
  "metadata": {
    "kernelspec": {
      "display_name": "Python 3",
      "language": "python",
      "name": "python3"
    },
    "language_info": {
      "codemirror_mode": {
        "name": "ipython",
        "version": 3
      },
      "file_extension": ".py",
      "mimetype": "text/x-python",
      "name": "python",
      "nbconvert_exporter": "python",
      "pygments_lexer": "ipython3",
      "version": "3.8.5"
    },
    "colab": {
      "name": "Assignment 2-Copy1.ipynb",
      "provenance": []
    }
  },
  "cells": [
    {
      "cell_type": "code",
      "metadata": {
        "id": "0bVwWrQsRqRG",
        "outputId": "d14646bc-1dd8-4895-fde5-88e964b442fc"
      },
      "source": [
        "test_list=[1,5,3,6,3,5,6,1]\n",
        "print(\"The original list is:\" +str(test_list))\n",
        "test_list=list(set(test_list))\n",
        "print(\"the list after removing duplicates\" +str(test_list))"
      ],
      "execution_count": null,
      "outputs": [
        {
          "output_type": "stream",
          "text": [
            "The original list is:[1, 5, 3, 6, 3, 5, 6, 1]\n",
            "the list after removing duplicates[1, 3, 5, 6]\n"
          ],
          "name": "stdout"
        }
      ]
    },
    {
      "cell_type": "code",
      "metadata": {
        "id": "Qf0xmOdARqRR",
        "outputId": "01573bc8-7c7a-4b8a-c28e-ca94abc2b156"
      },
      "source": [
        "list1=[1,3,5,7,9]\n",
        "list2=[1,2,4,6,7,8]\n",
        "diff_list1_list2 = list(set(list1)-set(list2))\n",
        "diff_list2_list1 = list(set(list2)-set(list1))\n",
        "total_diff = diff_list1_list2+diff_list2_list1\n",
        "print(total_diff)"
      ],
      "execution_count": null,
      "outputs": [
        {
          "output_type": "stream",
          "text": [
            "[9, 3, 5, 8, 2, 4, 6]\n"
          ],
          "name": "stdout"
        }
      ]
    },
    {
      "cell_type": "code",
      "metadata": {
        "id": "1vL_xXlaRqRS",
        "outputId": "a69821e4-493d-41b0-906f-ccce7c4056dc"
      },
      "source": [
        "import collections\n",
        "my_list=[10,10,10,10,20,20,20,20,40,40,50,50,30]\n",
        "print(\"Original list:\",my_list)\n",
        "ctr=collections.Counter(my_list)\n",
        "print(\"Frequency of the elements in the list: \",ctr)"
      ],
      "execution_count": null,
      "outputs": [
        {
          "output_type": "stream",
          "text": [
            "Original list: [10, 10, 10, 10, 20, 20, 20, 20, 40, 40, 50, 50, 30]\n",
            "Frequency of the elements in the list:  Counter({10: 4, 20: 4, 40: 2, 50: 2, 30: 1})\n"
          ],
          "name": "stdout"
        }
      ]
    },
    {
      "cell_type": "code",
      "metadata": {
        "id": "ba3mv8TVRqRT",
        "outputId": "1f76b58b-0e60-4102-c7be-ed0cc103fde6"
      },
      "source": [
        "from collections import Counter\n",
        "color1=[\"red\",\"orange\",\"green,\",\"blue\",\"white\"]\n",
        "color2=[\"black\",\"yellow\",\"green\",\"blue\"]\n",
        "counter1= Counter(color1)\n",
        "counter2= Counter(color2)\n",
        "print(\"Color1-Color2: \",list(counter1-counter2))\n",
        "print(\"Color2-Color1: \",list(counter2-counter1))"
      ],
      "execution_count": null,
      "outputs": [
        {
          "output_type": "stream",
          "text": [
            "Color1-Color2:  ['red', 'orange', 'green,', 'white']\n",
            "Color2-Color1:  ['black', 'yellow', 'green']\n"
          ],
          "name": "stdout"
        }
      ]
    },
    {
      "cell_type": "code",
      "metadata": {
        "id": "MoZUymWfRqRU"
      },
      "source": [
        ""
      ],
      "execution_count": null,
      "outputs": []
    }
  ]
}